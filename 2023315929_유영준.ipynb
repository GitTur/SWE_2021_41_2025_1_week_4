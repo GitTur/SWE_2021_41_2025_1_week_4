{
  "nbformat": 4,
  "nbformat_minor": 0,
  "metadata": {
    "colab": {
      "provenance": []
    },
    "kernelspec": {
      "name": "python3",
      "display_name": "Python 3"
    },
    "language_info": {
      "name": "python"
    }
  },
  "cells": [
    {
      "cell_type": "code",
      "execution_count": 2,
      "metadata": {
        "colab": {
          "base_uri": "https://localhost:8080/"
        },
        "id": "_R04xpHiwiBQ",
        "outputId": "34df8ad0-44f9-437e-b9f6-060a4f8f347e"
      },
      "outputs": [
        {
          "output_type": "stream",
          "name": "stdout",
          "text": [
            "True\n",
            "False\n"
          ]
        }
      ],
      "source": [
        "def isHappy(n):\n",
        "  # Complete the isHappy() function below\n",
        "  # The function should return either True or False\n",
        "  visited = set()\n",
        "\n",
        "  while n != 1 and n not in visited:\n",
        "      visited.add(n)\n",
        "      n = sum(int(digit) ** 2 for digit in str(n))\n",
        "\n",
        "  return n == 1\n",
        "\n",
        "print(isHappy(19))\n",
        "print(isHappy(16))"
      ]
    }
  ]
}